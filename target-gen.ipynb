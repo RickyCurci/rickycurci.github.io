{
  "nbformat": 4,
  "nbformat_minor": 0,
  "metadata": {
    "colab": {
      "name": "target-gen.ipynb",
      "provenance": [],
      "mount_file_id": "14D2qP4xRPS5LhEM8NEk3TRdq9sLyqHLW",
      "authorship_tag": "ABX9TyNq9glkdFFYJOBlirf0dGr+",
      "include_colab_link": true
    },
    "kernelspec": {
      "name": "python3",
      "display_name": "Python 3"
    },
    "language_info": {
      "name": "python"
    }
  },
  "cells": [
    {
      "cell_type": "markdown",
      "metadata": {
        "id": "view-in-github",
        "colab_type": "text"
      },
      "source": [
        "<a href=\"https://colab.research.google.com/github/RickyCurci/rickycurci.github.io/blob/main/target-gen.ipynb\" target=\"_parent\"><img src=\"https://colab.research.google.com/assets/colab-badge.svg\" alt=\"Open In Colab\"/></a>"
      ]
    },
    {
      "cell_type": "code",
      "execution_count": 17,
      "metadata": {
        "id": "6NBMlfPbgwGc"
      },
      "outputs": [],
      "source": [
        "import matplotlib.pyplot as pl\n",
        "import numpy as np"
      ]
    },
    {
      "cell_type": "code",
      "source": [
        "max = int(input(\"max: \")); const = []; var = []\n",
        "for i in range(0,int(max/2)+2): \n",
        "  const.append(int(max/2)); var.append(i+(max/5))\n",
        "print(const,var)"
      ],
      "metadata": {
        "colab": {
          "base_uri": "https://localhost:8080/"
        },
        "id": "IfsV6vIOv7D1",
        "outputId": "e9af6214-f5ff-4dad-b4fc-317d7009e978"
      },
      "execution_count": 125,
      "outputs": [
        {
          "output_type": "stream",
          "name": "stdout",
          "text": [
            "max: 14\n",
            "[7, 7, 7, 7, 7, 7, 7, 7, 7] [2.8, 3.8, 4.8, 5.8, 6.8, 7.8, 8.8, 9.8, 10.8]\n"
          ]
        }
      ]
    },
    {
      "cell_type": "code",
      "source": [
        "pl.rcParams[\"figure.figsize\"] =((max*4-10)/4,(max*4-10)/4)#pl.rcParamsDefault[\"figure.figsize\"]"
      ],
      "metadata": {
        "id": "McXyxrXujgvt"
      },
      "execution_count": 126,
      "outputs": []
    },
    {
      "cell_type": "code",
      "source": [
        "\n",
        "pl.grid(\"major\")\n",
        "pl.xlim(0,max); pl.xticks(np.linspace(0,max,max+1))\n",
        "pl.ylim(0,max); pl.yticks(np.linspace(0,max,max+1))\n",
        "\n",
        "pl.scatter(max/2,max/2,s=10000, color=\"orange\", marker=\"o\")\n",
        "pl.plot(var,const, color=\"black\"); pl.plot(const,var, color=\"black\")\n",
        "pl.show()"
      ],
      "metadata": {
        "colab": {
          "base_uri": "https://localhost:8080/",
          "height": 677
        },
        "id": "dO3aIktbg4fy",
        "outputId": "047259b5-ca69-4cfe-f74d-448203c8576f"
      },
      "execution_count": 127,
      "outputs": [
        {
          "output_type": "display_data",
          "data": {
            "text/plain": [
              "<Figure size 828x828 with 1 Axes>"
            ],
            "image/png": "[encoded data removed]"
          },
          "metadata": {
            "needs_background": "light"
          }
        }
      ]
    }
  ]
}